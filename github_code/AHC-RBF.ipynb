{
 "cells": [
  {
   "cell_type": "code",
   "execution_count": 34,
   "id": "7ff555b7",
   "metadata": {},
   "outputs": [],
   "source": [
    "from scipy import *  \n",
    "from scipy.linalg import norm, pinv  \n",
    "from matplotlib import pyplot as plt "
   ]
  },
  {
   "cell_type": "code",
   "execution_count": 35,
   "id": "c8b84660",
   "metadata": {},
   "outputs": [
    {
     "name": "stdout",
     "output_type": "stream",
     "text": [
      "\n",
      "supervised data shape: (252, 22)\n"
     ]
    }
   ],
   "source": [
    "import numpy as np\n",
    "import pandas as pd\n",
    "import matplotlib.pyplot as plt\n",
    "import math\n",
    "from keras . layers . recurrent import GRU\n",
    "import keras\n",
    "from keras.layers import Dropout\n",
    "from xgboost import XGBRegressor as XGBR\n",
    "#导入数据\n",
    "test='C:/Users/WZZ/Desktop/Paper/Pre_data/Pre_data_nor.xlsx'\n",
    "test = pd.read_excel(test, index_col=0, parse_dates=[0])\n",
    "import numpy as np\n",
    "import time\n",
    "import argparse\n",
    "import json\n",
    "from sklearn import metrics\n",
    "from math import sqrt, ceil\n",
    "from keras . layers . recurrent import LSTM\n",
    "from matplotlib import pyplot\n",
    "from pandas import read_csv\n",
    "from pandas import DataFrame\n",
    "from pandas import concat\n",
    "from keras.layers import SimpleRNN\n",
    "from sklearn.preprocessing import MinMaxScaler\n",
    "from sklearn.preprocessing import LabelEncoder\n",
    "from sklearn.metrics import mean_squared_error\n",
    "from keras.models import Sequential\n",
    "from keras.layers import Dense\n",
    "from keras.layers import LSTM\n",
    "import pandas as pd\n",
    "import warnings\n",
    "#################################\n",
    "index=\"Pc\"\n",
    "n_in=21\n",
    "n_out =1\n",
    "#################################\n",
    "t_pc=test[index]\n",
    "t_real=test[index]\n",
    "t_real1=test[index]\n",
    "t_real2=test[index]\n",
    "X = t_real.values\n",
    "X_tcr=t_real1.values\n",
    "X_thq=t_real2.values\n",
    "dataset=pd.DataFrame(X)\n",
    "dataset_tcr=pd.DataFrame(X_tcr)\n",
    "dataset_thq=pd.DataFrame(X_thq)\n",
    "eader_row_index =0\n",
    "index_col_name =0\n",
    "col_to_predict =0\n",
    "cols_to_drop =None\n",
    "if index_col_name:\n",
    "    dataset.set_index(index_col_name, inplace=True)    \n",
    "if cols_to_drop:\n",
    "    dataset.drop(cols_to_drop, axis =1, inplace = True)    \n",
    "col_names = dataset.columns.values.tolist()\n",
    "values = dataset.values   \n",
    "# move the column to predict to be the first col: 把预测列调至第一列\n",
    "col_to_predict_index = col_to_predict if type(col_to_predict) == int else col_names.index(col_to_predict)\n",
    "output_col_name = col_names[col_to_predict_index]\n",
    "if col_to_predict_index > 0:\n",
    "    col_names = [col_names[col_to_predict_index]] + col_names[:col_to_predict_index] + col_names[col_to_predict_index+1:]\n",
    "values = np.concatenate((values[:, col_to_predict_index].reshape((values.shape[0], 1)), values[:,:col_to_predict_index], values[:,col_to_predict_index+1:]), axis=1)\n",
    "values = values.astype(\"float32\")\n",
    "col_names, values,n_features, output_col_name=col_names,values,values.shape[1], output_col_name\n",
    "verbose = 2\n",
    "dropnan = True\n",
    "n_vars = 1 if type(values) is list else values.shape[1]\n",
    "if col_names is None: col_names = [\"var%d\" % (j+1) for j in range(n_vars)]\n",
    "df = DataFrame(values)\n",
    "cols, names = list(), list()\n",
    "# input sequence (t-n, ... t-1)\n",
    "for i in range(n_in, 0, -1):\n",
    "    cols.append(df.shift(i))\n",
    "    names += [(\"%s(t-%d)\" % (col_names[j], i)) for j in range(n_vars)]\n",
    "# forecast sequence (t, t+1, ... t+n)\n",
    "for i in range(0, n_out):\n",
    "    cols.append(df.shift(-i))         #这里循环结束后cols是个列表，每个列表都是一个shift过的矩阵\n",
    "    if i == 0:\n",
    "        names += [(\"%s(t)\" % (col_names[j])) for j in range(n_vars)]\n",
    "    else:\n",
    "        names += [(\"%s(t+%d)\" % (col_names[j], i)) for j in range(n_vars)]\n",
    "# put it all together\n",
    "agg = concat(cols, axis=1)    #将cols中的每一行元素一字排开，连接起来，vala t-n_in, valb t-n_in ... valta t, valb t... vala t+n_out-1, valb t+n_out-1\n",
    "agg.columns = names\n",
    "# drop rows with NaN values\n",
    "if dropnan:\n",
    "    agg.dropna(inplace=True)\n",
    "if verbose:\n",
    "    print(\"\\nsupervised data shape:\", agg.shape)\n",
    "values=agg.values"
   ]
  },
  {
   "cell_type": "code",
   "execution_count": 36,
   "id": "b39f524e",
   "metadata": {},
   "outputs": [],
   "source": [
    "train_X=values[:values.shape[0]-2*n_in,:n_in]\n",
    "test_X=values[values.shape[0]-2*n_in:values.shape[0]-n_in,:n_in]\n",
    "train_Y=values[:values.shape[0]-2*n_in,n_in:]\n",
    "test_Y=values[values.shape[0]-2*n_in:values.shape[0]-n_in,n_in:]"
   ]
  },
  {
   "cell_type": "code",
   "execution_count": 37,
   "id": "ea429b6a",
   "metadata": {},
   "outputs": [],
   "source": [
    "class RBF:   \n",
    "    def __init__(self, indim, numCenters, outdim):  \n",
    "        self.indim = indim  \n",
    "        self.outdim = outdim  \n",
    "        self.numCenters = numCenters  \n",
    "        self.centers = test[index].values\n",
    "        self.beta = 8  \n",
    "        self.W = random.random((self.numCenters, self.outdim))\n",
    " \n",
    "           \n",
    "    def _basisfunc(self, c, d):  \n",
    "        assert len(d) == self.indim  \n",
    "        return exp(-self.beta * norm(c-d)**2)  \n",
    "       \n",
    "    def _calcAct(self, X):  \n",
    "        # calculate activations of RBFs  \n",
    "        G = zeros((X.shape[0], self.numCenters), float)  \n",
    "        for ci, c in enumerate(self.centers):  \n",
    "            for xi, x in enumerate(X):  \n",
    "                G[xi,ci] = self._basisfunc(c, x)  \n",
    "        return G  \n",
    "       \n",
    "    def train(self, X, Y):  \n",
    "        \"\"\" X: matrix of dimensions n x indim  \n",
    "            y: column vector of dimension n x 1 \"\"\"  \n",
    "           \n",
    "        # choose random center vectors from training set  \n",
    "        rnd_idx = random.permutation(X.shape[0])[:self.numCenters]  \n",
    "        self.centers = [X[i,:] for i in rnd_idx]  \n",
    "   \n",
    "        G = self._calcAct(X)  \n",
    "           \n",
    "        # calculate output weights (pseudoinverse)  \n",
    "        self.W = dot(pinv(G), Y)  \n",
    "           \n",
    "    def test(self, X):  \n",
    "        \"\"\" X: matrix of dimensions n x indim \"\"\"  \n",
    "           \n",
    "        G = self._calcAct(X)  \n",
    "        Y = dot(G, self.W)  \n",
    "        return Y"
   ]
  },
  {
   "cell_type": "code",
   "execution_count": 38,
   "id": "8adc6755",
   "metadata": {},
   "outputs": [
    {
     "name": "stderr",
     "output_type": "stream",
     "text": [
      "C:\\Users\\WZZ\\Desktop\\conda\\envs\\tensorflow\\lib\\site-packages\\ipykernel_launcher.py:17: DeprecationWarning: scipy.zeros is deprecated and will be removed in SciPy 2.0.0, use numpy.zeros instead\n",
      "C:\\Users\\WZZ\\Desktop\\conda\\envs\\tensorflow\\lib\\site-packages\\ipykernel_launcher.py:13: DeprecationWarning: scipy.exp is deprecated and will be removed in SciPy 2.0.0, use numpy.exp instead\n",
      "  del sys.path[0]\n",
      "C:\\Users\\WZZ\\Desktop\\conda\\envs\\tensorflow\\lib\\site-packages\\ipykernel_launcher.py:34: DeprecationWarning: scipy.dot is deprecated and will be removed in SciPy 2.0.0, use numpy.dot instead\n"
     ]
    }
   ],
   "source": [
    "rbf = RBF(21,273,1) \n",
    "rbf.train(train_X, train_Y)"
   ]
  },
  {
   "cell_type": "code",
   "execution_count": 39,
   "id": "c6b1d4c5",
   "metadata": {},
   "outputs": [
    {
     "name": "stderr",
     "output_type": "stream",
     "text": [
      "C:\\Users\\WZZ\\Desktop\\conda\\envs\\tensorflow\\lib\\site-packages\\ipykernel_launcher.py:17: DeprecationWarning: scipy.zeros is deprecated and will be removed in SciPy 2.0.0, use numpy.zeros instead\n",
      "C:\\Users\\WZZ\\Desktop\\conda\\envs\\tensorflow\\lib\\site-packages\\ipykernel_launcher.py:13: DeprecationWarning: scipy.exp is deprecated and will be removed in SciPy 2.0.0, use numpy.exp instead\n",
      "  del sys.path[0]\n",
      "C:\\Users\\WZZ\\Desktop\\conda\\envs\\tensorflow\\lib\\site-packages\\ipykernel_launcher.py:40: DeprecationWarning: scipy.dot is deprecated and will be removed in SciPy 2.0.0, use numpy.dot instead\n"
     ]
    }
   ],
   "source": [
    "pre0=rbf.test(train_X) \n",
    "pre1=[]\n",
    "txt1=test_X[0]\n",
    "for i in range(len(test_X)):\n",
    "    txt1=txt1.reshape(i+1,n_in,1)\n",
    "    list_xgt=rbf.test(txt1[i].reshape(1,n_in))\n",
    "    pre1.append(list_xgt)\n",
    "    list_xgtt=np.concatenate([txt1[i,1:n_in].reshape(n_in-1),list_xgt.reshape(1,)])  \n",
    "    txt1=np.concatenate([txt1.reshape(i+1,n_in),list_xgtt.reshape((1,n_in))])\n",
    "pre1=np.array(pre1).reshape(n_in)"
   ]
  },
  {
   "cell_type": "code",
   "execution_count": 40,
   "id": "3af978a3",
   "metadata": {},
   "outputs": [
    {
     "data": {
      "text/plain": [
       "[<matplotlib.lines.Line2D at 0x140e31b1ef0>]"
      ]
     },
     "execution_count": 40,
     "metadata": {},
     "output_type": "execute_result"
    },
    {
     "data": {
      "image/png": "[encoded data removed]",
      "text/plain": [
       "<Figure size 432x288 with 1 Axes>"
      ]
     },
     "metadata": {
      "needs_background": "light"
     },
     "output_type": "display_data"
    }
   ],
   "source": [
    "plt.plot(train_Y)\n",
    "plt.plot(pre0)"
   ]
  },
  {
   "cell_type": "code",
   "execution_count": 41,
   "id": "ee8568f7",
   "metadata": {},
   "outputs": [
    {
     "data": {
      "text/plain": [
       "[<matplotlib.lines.Line2D at 0x140e1b0f668>]"
      ]
     },
     "execution_count": 41,
     "metadata": {},
     "output_type": "execute_result"
    },
    {
     "data": {
      "image/png": "[encoded data removed]",
      "text/plain": [
       "<Figure size 432x288 with 1 Axes>"
      ]
     },
     "metadata": {
      "needs_background": "light"
     },
     "output_type": "display_data"
    }
   ],
   "source": [
    "plt.plot(test_Y)\n",
    "plt.plot(pre1)"
   ]
  },
  {
   "cell_type": "code",
   "execution_count": 42,
   "id": "55ed96f4",
   "metadata": {},
   "outputs": [
    {
     "data": {
      "text/plain": [
       "array([[0.26626486],\n",
       "       [0.14772919],\n",
       "       [0.40660244],\n",
       "       [0.15181588],\n",
       "       [0.15752217],\n",
       "       [0.09976382],\n",
       "       [0.27137181],\n",
       "       [0.10935538],\n",
       "       [0.19274653],\n",
       "       [0.13242678],\n",
       "       [0.00638048],\n",
       "       [0.21005027],\n",
       "       [0.19648965],\n",
       "       [0.16243224],\n",
       "       [0.09548911],\n",
       "       [0.42121682],\n",
       "       [0.28353304],\n",
       "       [0.2583952 ],\n",
       "       [0.23325737],\n",
       "       [0.23275396],\n",
       "       [0.23738354],\n",
       "       [0.11807153],\n",
       "       [0.25678957],\n",
       "       [0.2475242 ],\n",
       "       [0.23825882],\n",
       "       [0.22899345],\n",
       "       [0.21972807],\n",
       "       [0.21046269],\n",
       "       [0.20119733],\n",
       "       [0.21034235],\n",
       "       [0.49308169],\n",
       "       [0.22852117],\n",
       "       [0.25554073],\n",
       "       [0.32868439],\n",
       "       [0.18137698],\n",
       "       [0.32917216],\n",
       "       [0.19791339],\n",
       "       [0.43853775],\n",
       "       [0.04772669],\n",
       "       [0.18907414],\n",
       "       [0.30754462],\n",
       "       [0.19918786],\n",
       "       [0.19777527],\n",
       "       [0.20133911],\n",
       "       [0.21386512],\n",
       "       [0.06943362],\n",
       "       [0.16744943],\n",
       "       [0.16775618],\n",
       "       [0.15786746],\n",
       "       [0.41134667],\n",
       "       [0.18272111],\n",
       "       [0.26827341],\n",
       "       [0.14558448],\n",
       "       [0.13755184],\n",
       "       [0.23703113],\n",
       "       [0.26524836],\n",
       "       [0.1819903 ],\n",
       "       [0.11420877],\n",
       "       [0.16743182],\n",
       "       [0.11340447],\n",
       "       [0.11123423],\n",
       "       [0.22234806],\n",
       "       [0.4614847 ],\n",
       "       [0.24432775],\n",
       "       [0.26271957],\n",
       "       [0.18767634],\n",
       "       [0.05386227],\n",
       "       [0.0441524 ],\n",
       "       [0.12135411],\n",
       "       [0.2243875 ],\n",
       "       [0.3456578 ],\n",
       "       [0.17500997],\n",
       "       [0.21085761],\n",
       "       [0.12245452],\n",
       "       [0.0801235 ],\n",
       "       [0.41669464],\n",
       "       [0.29665586],\n",
       "       [0.34036133],\n",
       "       [0.209178  ],\n",
       "       [0.00619976],\n",
       "       [0.06529684],\n",
       "       [0.1131161 ],\n",
       "       [0.10845524],\n",
       "       [0.17452599],\n",
       "       [0.10677913],\n",
       "       [0.12842979],\n",
       "       [0.10717288],\n",
       "       [0.07050709],\n",
       "       [0.06950565],\n",
       "       [0.0685042 ],\n",
       "       [0.07039542],\n",
       "       [0.08038457],\n",
       "       [0.10771003],\n",
       "       [0.21542732],\n",
       "       [0.09847321],\n",
       "       [0.07111779],\n",
       "       [0.14429232],\n",
       "       [0.08752765],\n",
       "       [0.11120485],\n",
       "       [0.35627368],\n",
       "       [0.15525912],\n",
       "       [0.04893526],\n",
       "       [0.0186998 ],\n",
       "       [0.13007157],\n",
       "       [0.09697036],\n",
       "       [0.09947342],\n",
       "       [0.3778581 ],\n",
       "       [0.12089287],\n",
       "       [0.07110636],\n",
       "       [0.13967146],\n",
       "       [0.1819589 ],\n",
       "       [0.1745985 ],\n",
       "       [0.16179191],\n",
       "       [0.20313412],\n",
       "       [0.26169738],\n",
       "       [0.00921536],\n",
       "       [0.11109523],\n",
       "       [0.27176639],\n",
       "       [0.41378555],\n",
       "       [0.21624462],\n",
       "       [0.23170127],\n",
       "       [0.12436412],\n",
       "       [0.06553248],\n",
       "       [0.06357871],\n",
       "       [0.1853389 ],\n",
       "       [0.40115058],\n",
       "       [0.1222159 ],\n",
       "       [0.15755565],\n",
       "       [0.18764278],\n",
       "       [0.04415707],\n",
       "       [0.10672728],\n",
       "       [0.25927734],\n",
       "       [0.42830554],\n",
       "       [0.22655159],\n",
       "       [0.20209803],\n",
       "       [0.20903185],\n",
       "       [0.08091258],\n",
       "       [0.12987773],\n",
       "       [0.2854625 ],\n",
       "       [0.24074604],\n",
       "       [0.16012436],\n",
       "       [0.1207119 ],\n",
       "       [0.19086836],\n",
       "       [0.08660472],\n",
       "       [0.20328389],\n",
       "       [0.31996307],\n",
       "       [0.16636112],\n",
       "       [0.27137154],\n",
       "       [0.20359369],\n",
       "       [0.18812519],\n",
       "       [0.15049595],\n",
       "       [0.09007573],\n",
       "       [0.35017917],\n",
       "       [0.33373329],\n",
       "       [0.10071693],\n",
       "       [0.32666907],\n",
       "       [0.17610432],\n",
       "       [0.01977757],\n",
       "       [0.11270397],\n",
       "       [0.1326054 ],\n",
       "       [1.        ],\n",
       "       [0.19776176],\n",
       "       [0.26054806],\n",
       "       [0.22383098],\n",
       "       [0.26168031],\n",
       "       [0.34438446],\n",
       "       [0.11963034],\n",
       "       [0.12275433],\n",
       "       [0.31757951],\n",
       "       [0.29548824],\n",
       "       [0.1928194 ],\n",
       "       [0.4492501 ],\n",
       "       [0.31038499],\n",
       "       [0.18298945],\n",
       "       [0.12598658],\n",
       "       [0.08511312],\n",
       "       [0.07039648],\n",
       "       [0.05567985],\n",
       "       [0.06388834],\n",
       "       [0.0282011 ],\n",
       "       [0.05465821],\n",
       "       [0.04469689],\n",
       "       [0.03191305],\n",
       "       [0.01305304],\n",
       "       [0.14065804],\n",
       "       [0.06701369],\n",
       "       [0.02416952],\n",
       "       [0.0969179 ],\n",
       "       [0.146495  ],\n",
       "       [0.08700635],\n",
       "       [0.24424686],\n",
       "       [0.28342396],\n",
       "       [0.19712216],\n",
       "       [0.14106645],\n",
       "       [0.08501074],\n",
       "       [0.1400566 ],\n",
       "       [0.1336703 ],\n",
       "       [0.10304668],\n",
       "       [0.30221036],\n",
       "       [0.03485777],\n",
       "       [0.06040031],\n",
       "       [0.18400779],\n",
       "       [0.15999377],\n",
       "       [0.07811011],\n",
       "       [0.19645382],\n",
       "       [0.13667989],\n",
       "       [0.09481392],\n",
       "       [0.11635663],\n",
       "       [0.17720068],\n",
       "       [0.08076314]])"
      ]
     },
     "execution_count": 42,
     "metadata": {},
     "output_type": "execute_result"
    }
   ],
   "source": [
    "pre0"
   ]
  },
  {
   "cell_type": "code",
   "execution_count": 43,
   "id": "283f332f",
   "metadata": {},
   "outputs": [
    {
     "data": {
      "text/plain": [
       "array([0.14904451, 0.31207809, 0.22410725, 0.15775336, 0.1970464 ,\n",
       "       0.23677306, 0.25637437, 0.16158886, 0.28765188, 0.3488294 ,\n",
       "       0.12118032, 0.22292138, 0.30459257, 0.31967495, 0.19917898,\n",
       "       0.30268223, 0.35976817, 0.1522304 , 0.22435795, 0.34618274,\n",
       "       0.30821513])"
      ]
     },
     "execution_count": 43,
     "metadata": {},
     "output_type": "execute_result"
    }
   ],
   "source": [
    "pre1"
   ]
  },
  {
   "cell_type": "code",
   "execution_count": null,
   "id": "5e0e704c",
   "metadata": {},
   "outputs": [],
   "source": []
  }
 ],
 "metadata": {
  "kernelspec": {
   "display_name": "Python 3",
   "language": "python",
   "name": "python3"
  },
  "language_info": {
   "codemirror_mode": {
    "name": "ipython",
    "version": 3
   },
   "file_extension": ".py",
   "mimetype": "text/x-python",
   "name": "python",
   "nbconvert_exporter": "python",
   "pygments_lexer": "ipython3",
   "version": "3.6.12"
  }
 },
 "nbformat": 4,
 "nbformat_minor": 5
}
